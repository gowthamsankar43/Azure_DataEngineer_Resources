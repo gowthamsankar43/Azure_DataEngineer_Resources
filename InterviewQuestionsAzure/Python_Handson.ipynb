{
 "cells": [
  {
   "cell_type": "markdown",
   "id": "560d6ed1-63a0-428f-9764-be6a188a8503",
   "metadata": {},
   "source": [
    "Remove duplicates from sorted array\n",
    "- arr =[1,2,3,4,4,5,6,7,7,7,8,9,10,24,34,34]\n"
   ]
  },
  {
   "cell_type": "code",
   "execution_count": 10,
   "id": "24c42c8c-e3a4-4aa8-8755-5126a89cdc8a",
   "metadata": {
    "editable": true,
    "slideshow": {
     "slide_type": ""
    },
    "tags": []
   },
   "outputs": [
    {
     "data": {
      "text/plain": [
       "[1, 2, 3, 4, 5, 6, 7, 8, 9, 10, 24]"
      ]
     },
     "execution_count": 10,
     "metadata": {},
     "output_type": "execute_result"
    }
   ],
   "source": [
    "class Solution:\n",
    "    def remove_duplicates(nums:list[int])-> int:\n",
    "        result = []\n",
    "        for i in range(1,len(nums)):\n",
    "            if nums[i] != nums[i-1]:\n",
    "                result.append(nums[i-1])\n",
    "                i +=1\n",
    "        return result\n",
    "        #return list(set(arr))\n",
    "\n",
    "arr =[1,2,3,4,4,5,6,7,7,7,8,9,10,24,34,34]\n",
    "Solution.remove_duplicates(arr)"
   ]
  },
  {
   "cell_type": "markdown",
   "id": "f5f467ee-709c-48a3-83bc-1867179e759f",
   "metadata": {},
   "source": [
    "Remove the characters from the string for the given range of values \n",
    "- str = \"Hello\"\n",
    "- range =[0,2]\n",
    "- output = \"llo\""
   ]
  },
  {
   "cell_type": "code",
   "execution_count": 16,
   "id": "8585b5af-cf66-48e7-994c-e54fb0000a37",
   "metadata": {},
   "outputs": [
    {
     "data": {
      "text/plain": [
       "'llo'"
      ]
     },
     "execution_count": 16,
     "metadata": {},
     "output_type": "execute_result"
    }
   ],
   "source": [
    "class Solution:\n",
    "    def removing_chars(string,ran):\n",
    "        chars = list(string) # converting string to character list [\"h\",\"e\",\"l\",\"o\",\"o\"]\n",
    "        for start,length in ran: # for each range ex: here is start from 0 upto two chars\n",
    "            for i in range(start,start+length): # here start is 0 and end is 2 so 0 and 1 will be removed\n",
    "                if i < len(chars):\n",
    "                    chars[i] = \"\" #replacing with empty\n",
    "        return \"\".join(chars)\n",
    "\n",
    "\n",
    "string = \"Hello\"\n",
    "ran = [(0,2)]\n",
    "Solution.removing_chars(string,ran)\n",
    "        "
   ]
  },
  {
   "cell_type": "markdown",
   "id": "8693fc9c-e594-4fab-acbb-893642f63f40",
   "metadata": {},
   "source": [
    "Perform operations on string based on user input\n",
    "- input =  [\"append hello\",\"undo\",\"append world\",\"backspace 1\"]\n",
    "- output = \"worl\""
   ]
  },
  {
   "cell_type": "code",
   "execution_count": 19,
   "id": "2345a4ab-fe29-4c9e-9b78-adf382d805e6",
   "metadata": {},
   "outputs": [
    {
     "data": {
      "text/plain": [
       "'worl'"
      ]
     },
     "execution_count": 19,
     "metadata": {},
     "output_type": "execute_result"
    }
   ],
   "source": [
    "class Solution:\n",
    "    def process_operations(arr):\n",
    "        result = \"\"\n",
    "        undo_stack = []\n",
    "        for commands in arr :\n",
    "            parts = commands.split(' ',1)\n",
    "            action = parts[0]\n",
    "            data = parts[1] if len(parts)>1 else \"\"\n",
    "\n",
    "            if action == 'append':\n",
    "                undo_stack.append(result)\n",
    "                result += data\n",
    "            elif action == 'backspace':\n",
    "                undo_stack.append(result)\n",
    "                result = result[: -int(data)]\n",
    "            elif action == 'undo':\n",
    "                if undo_stack:\n",
    "                    result = undo_stack.pop()\n",
    "            else:\n",
    "                return \"invalid action\"\n",
    "        return result\n",
    "\n",
    "arr = [\"append hello\",\"undo\",\"append world\",\"backspace 1\"]\n",
    "Solution.process_operations(arr)\n",
    "    "
   ]
  },
  {
   "cell_type": "markdown",
   "id": "4ba43ce7-6fa5-4263-9490-f9ef267e896a",
   "metadata": {},
   "source": [
    "\n",
    "📝 Challenge: Given a sentence with English alphabets in lower or upper case, apply the following rules on each word:\n",
    "Leave the first character in each word as it is.\n",
    "Consider the current character as X and the character preceding it as Y.\n",
    "- If Y precedes X in the alphabet, convert X to uppercase.\n",
    "- If X precedes Y in the alphabet, convert X to lowercase.\n",
    "- If Y equals X, leave X as it is.\n",
    "\n",
    "💡Scenario 1:\n",
    "- Input: wOrDs aRe iN cAsE\n",
    "- Output: wOrDs ArE In CaSe\n",
    "Scenario 2:\n",
    "- Input: \"HeLLo WoRLD\"\n",
    "- Output: \"hElLo WoRlD\"\n"
   ]
  },
  {
   "cell_type": "code",
   "execution_count": 35,
   "id": "656d0e11-fadd-408d-983f-52ddf8ab245d",
   "metadata": {},
   "outputs": [
    {
     "data": {
      "text/plain": [
       "'woRdS aRe iN caSe'"
      ]
     },
     "execution_count": 35,
     "metadata": {},
     "output_type": "execute_result"
    }
   ],
   "source": [
    "class Solution:\n",
    "    def user_function(string):\n",
    "        newstr = \"\"\n",
    "        for words in string.split():\n",
    "            word = words[0]\n",
    "            \n",
    "            for w in range(1,len(words)):\n",
    "                x = words[w]\n",
    "                y = words[w-1]\n",
    "\n",
    "                if y.lower() < x.lower():\n",
    "                    word += x.upper()\n",
    "                elif x.lower() < y.lower():\n",
    "                    word += x.lower()\n",
    "                else:\n",
    "                    word += x\n",
    "            newstr += word +\" \"\n",
    "        return newstr.strip()\n",
    "\n",
    "string = \"wOrDs aRe iN cAsE\"\n",
    "Solution.user_function(string)"
   ]
  },
  {
   "cell_type": "code",
   "execution_count": 37,
   "id": "dce8be47-1e0b-4e1a-bb3a-ed870c0cec82",
   "metadata": {},
   "outputs": [
    {
     "name": "stdout",
     "output_type": "stream",
     "text": [
      "woRdS aRe iN caSe \n",
      "HeLLO WoRld \n"
     ]
    }
   ],
   "source": [
    "def re_sentence(sentence):\n",
    "    new_str = \"\"\n",
    "    for words in sentence.split():\n",
    "        word = words[0]\n",
    "        \n",
    "        for w in range(1, len(words)):\n",
    "            y = words[w-1]\n",
    "            x = words[w]\n",
    "            \n",
    "            if y.lower() < x.lower():\n",
    "                word += x.upper()\n",
    "            elif x.lower() < y.lower():\n",
    "                word += x.lower()\n",
    "            else:\n",
    "                word += x\n",
    "        new_str += word + \" \"\n",
    "    return new_str\n",
    "\n",
    "# Example usage\n",
    "print(re_sentence(\"wOrDs aRe iN cAsE\"))  # Output: \"wOrDs ArE In CaSe\"\n",
    "print(re_sentence(\"HeLLo WoRLD\"))        # Output: \"hElLo WoRlD\"\n"
   ]
  },
  {
   "cell_type": "code",
   "execution_count": null,
   "id": "b255457e-90a4-4dd9-9f89-c137cce2564b",
   "metadata": {},
   "outputs": [],
   "source": []
  }
 ],
 "metadata": {
  "kernelspec": {
   "display_name": "Python 3 (ipykernel)",
   "language": "python",
   "name": "python3"
  },
  "language_info": {
   "codemirror_mode": {
    "name": "ipython",
    "version": 3
   },
   "file_extension": ".py",
   "mimetype": "text/x-python",
   "name": "python",
   "nbconvert_exporter": "python",
   "pygments_lexer": "ipython3",
   "version": "3.10.0"
  }
 },
 "nbformat": 4,
 "nbformat_minor": 5
}
