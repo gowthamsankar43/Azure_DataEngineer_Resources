{
 "cells": [
  {
   "cell_type": "markdown",
   "id": "560d6ed1-63a0-428f-9764-be6a188a8503",
   "metadata": {},
   "source": [
    "Remove duplicates from sorted array\n",
    "- arr =[1,2,3,4,4,5,6,7,7,7,8,9,10,24,34,34]\n"
   ]
  },
  {
   "cell_type": "code",
   "execution_count": 10,
   "id": "24c42c8c-e3a4-4aa8-8755-5126a89cdc8a",
   "metadata": {
    "editable": true,
    "slideshow": {
     "slide_type": ""
    },
    "tags": []
   },
   "outputs": [
    {
     "data": {
      "text/plain": [
       "[1, 2, 3, 4, 5, 6, 7, 8, 9, 10, 24]"
      ]
     },
     "execution_count": 10,
     "metadata": {},
     "output_type": "execute_result"
    }
   ],
   "source": [
    "class Solution:\n",
    "    def remove_duplicates(nums:list[int])-> int:\n",
    "        result = []\n",
    "        for i in range(1,len(nums)):\n",
    "            if nums[i] != nums[i-1]:\n",
    "                result.append(nums[i-1])\n",
    "                i +=1\n",
    "        return result\n",
    "        #return list(set(arr))\n",
    "\n",
    "arr =[1,2,3,4,4,5,6,7,7,7,8,9,10,24,34,34]\n",
    "Solution.remove_duplicates(arr)"
   ]
  },
  {
   "cell_type": "markdown",
   "id": "f5f467ee-709c-48a3-83bc-1867179e759f",
   "metadata": {},
   "source": [
    "Remove the characters from the string for the given range of values \n",
    "- str = \"Hello\"\n",
    "- range =[0,2]\n",
    "- output = \"llo\""
   ]
  },
  {
   "cell_type": "code",
   "execution_count": 16,
   "id": "8585b5af-cf66-48e7-994c-e54fb0000a37",
   "metadata": {},
   "outputs": [
    {
     "data": {
      "text/plain": [
       "'llo'"
      ]
     },
     "execution_count": 16,
     "metadata": {},
     "output_type": "execute_result"
    }
   ],
   "source": [
    "class Solution:\n",
    "    def removing_chars(string,ran):\n",
    "        chars = list(string) # converting string to character list [\"h\",\"e\",\"l\",\"o\",\"o\"]\n",
    "        for start,length in ran: # for each range ex: here is start from 0 upto two chars\n",
    "            for i in range(start,start+length): # here start is 0 and end is 2 so 0 and 1 will be removed\n",
    "                if i < len(chars):\n",
    "                    chars[i] = \"\" #replacing with empty\n",
    "        return \"\".join(chars)\n",
    "\n",
    "\n",
    "string = \"Hello\"\n",
    "ran = [(0,2)]\n",
    "Solution.removing_chars(string,ran)\n",
    "        "
   ]
  },
  {
   "cell_type": "markdown",
   "id": "8693fc9c-e594-4fab-acbb-893642f63f40",
   "metadata": {},
   "source": [
    "Perform operations on string based on user input\n",
    "- input = [\"append hello\",\"undo\",\"backspace\",\"append world\"]\n",
    "- output = \"worl\""
   ]
  },
  {
   "cell_type": "code",
   "execution_count": 3,
   "id": "c29b151b-9eeb-4704-8d00-9213576d84d1",
   "metadata": {},
   "outputs": [
    {
     "ename": "ValueError",
     "evalue": "invalid literal for int() with base 10: ''",
     "output_type": "error",
     "traceback": [
      "\u001b[1;31m---------------------------------------------------------------------------\u001b[0m",
      "\u001b[1;31mValueError\u001b[0m                                Traceback (most recent call last)",
      "Cell \u001b[1;32mIn[3], line 24\u001b[0m\n\u001b[0;32m     22\u001b[0m \u001b[38;5;66;03m# Example usage\u001b[39;00m\n\u001b[0;32m     23\u001b[0m arr \u001b[38;5;241m=\u001b[39m [\u001b[38;5;124m\"\u001b[39m\u001b[38;5;124mappend hello\u001b[39m\u001b[38;5;124m\"\u001b[39m, \u001b[38;5;124m\"\u001b[39m\u001b[38;5;124mundo\u001b[39m\u001b[38;5;124m\"\u001b[39m, \u001b[38;5;124m\"\u001b[39m\u001b[38;5;124mbackspace\u001b[39m\u001b[38;5;124m\"\u001b[39m, \u001b[38;5;124m\"\u001b[39m\u001b[38;5;124mappend world\u001b[39m\u001b[38;5;124m\"\u001b[39m]\n\u001b[1;32m---> 24\u001b[0m \u001b[38;5;28mprint\u001b[39m(\u001b[43mprocess_data\u001b[49m\u001b[43m(\u001b[49m\u001b[43marr\u001b[49m\u001b[43m)\u001b[49m)  \u001b[38;5;66;03m# Output: \"world\"\u001b[39;00m\n",
      "Cell \u001b[1;32mIn[3], line 15\u001b[0m, in \u001b[0;36mprocess_data\u001b[1;34m(arr)\u001b[0m\n\u001b[0;32m     13\u001b[0m \u001b[38;5;28;01melif\u001b[39;00m action \u001b[38;5;241m==\u001b[39m \u001b[38;5;124m\"\u001b[39m\u001b[38;5;124mbackspace\u001b[39m\u001b[38;5;124m\"\u001b[39m:\n\u001b[0;32m     14\u001b[0m     undo_stack\u001b[38;5;241m.\u001b[39mappend(result)\n\u001b[1;32m---> 15\u001b[0m     result \u001b[38;5;241m=\u001b[39m result[: \u001b[38;5;241m-\u001b[39m\u001b[38;5;28;43mint\u001b[39;49m\u001b[43m(\u001b[49m\u001b[43mdata\u001b[49m\u001b[43m)\u001b[49m]\n\u001b[0;32m     16\u001b[0m \u001b[38;5;28;01melif\u001b[39;00m action \u001b[38;5;241m==\u001b[39m \u001b[38;5;124m\"\u001b[39m\u001b[38;5;124mundo\u001b[39m\u001b[38;5;124m\"\u001b[39m:\n\u001b[0;32m     17\u001b[0m     \u001b[38;5;28;01mif\u001b[39;00m undo_stack:\n",
      "\u001b[1;31mValueError\u001b[0m: invalid literal for int() with base 10: ''"
     ]
    }
   ],
   "source": [
    "def process_data(arr):\n",
    "    result = \"\"\n",
    "    undo_stack = []\n",
    "\n",
    "    for command in arr:\n",
    "        parts = command.split(' ', 1)\n",
    "        action = parts[0]\n",
    "        data = parts[1] if len(parts) > 1 else \"\"\n",
    "    \n",
    "        if action == \"append\":\n",
    "            undo_stack.append(result)\n",
    "            result += data\n",
    "        elif action == \"backspace\":\n",
    "            undo_stack.append(result)\n",
    "            result = result[: -int(data)]\n",
    "        elif action == \"undo\":\n",
    "            if undo_stack:\n",
    "                result = undo_stack.pop()\n",
    "\n",
    "    return result\n",
    "\n",
    "# Example usage\n",
    "arr = [\"append hello\", \"undo\", \"backspace\", \"append world\"]\n",
    "print(process_data(arr))  # Output: \"world\"\n"
   ]
  },
  {
   "cell_type": "code",
   "execution_count": 2,
   "id": "3208a38a-b7e8-46df-88e5-07f023b702b1",
   "metadata": {},
   "outputs": [
    {
     "name": "stdout",
     "output_type": "stream",
     "text": [
      "helloworld!\n"
     ]
    }
   ],
   "source": [
    "def process_commands(arr):\n",
    "    result = \"\"\n",
    "    undo_stack = []\n",
    "    \n",
    "    for command in arr:\n",
    "        parts = command.split(' ', 1)\n",
    "        action = parts[0]\n",
    "        data = parts[1] if len(parts) > 1 else \"\"\n",
    "        \n",
    "        if action == \"append\":\n",
    "            undo_stack.append(result)\n",
    "            result += data\n",
    "        elif action == \"backspace\":\n",
    "            undo_stack.append(result)\n",
    "            result = result[: -int(data)]\n",
    "        elif action == \"undo\":\n",
    "            if undo_stack:\n",
    "                result = undo_stack.pop()\n",
    "    \n",
    "    return result\n",
    "\n",
    "# Example usage\n",
    "commands = [\n",
    "    \"append hello\",\n",
    "    \"append world\",\n",
    "    \"backspace 5\",\n",
    "    \"undo\",\n",
    "    \"append !\"\n",
    "]\n",
    "result = process_commands(commands)\n",
    "print(result)  # Output: \"helloworld!\"\n"
   ]
  },
  {
   "cell_type": "code",
   "execution_count": null,
   "id": "e7442c9e-9e41-480b-93ed-09b940f51807",
   "metadata": {},
   "outputs": [],
   "source": []
  },
  {
   "cell_type": "code",
   "execution_count": null,
   "id": "6fed5dc0-a346-46d3-b264-de32596b51a3",
   "metadata": {},
   "outputs": [],
   "source": []
  }
 ],
 "metadata": {
  "kernelspec": {
   "display_name": "Python 3 (ipykernel)",
   "language": "python",
   "name": "python3"
  },
  "language_info": {
   "codemirror_mode": {
    "name": "ipython",
    "version": 3
   },
   "file_extension": ".py",
   "mimetype": "text/x-python",
   "name": "python",
   "nbconvert_exporter": "python",
   "pygments_lexer": "ipython3",
   "version": "3.10.0"
  }
 },
 "nbformat": 4,
 "nbformat_minor": 5
}
