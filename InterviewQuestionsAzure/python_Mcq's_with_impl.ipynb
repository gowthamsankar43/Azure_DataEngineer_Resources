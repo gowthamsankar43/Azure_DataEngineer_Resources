{
 "cells": [
  {
   "cell_type": "markdown",
   "id": "607483b2-790d-4491-900e-60adaa626558",
   "metadata": {},
   "source": [
    "### Question 1\n",
    "\n",
    "In Python, a list is one of the most commonly used data structures, known for its ability to store a sequence of elements. What happens when you use the `append()` method on a list to add a new item, and then try to use the `extend()` method to add another sequence to the same list?\n",
    "\n",
    "**A.** The `append()` method will add each character of the new item separately, and `extend()` will create a new list within the existing list.\n",
    "\n",
    "****B.** The `append()` method will add the new item as a single element at the end of the list, while `extend()` will iterate over its elements and add each one individually to the original list **\n",
    "\n",
    "**C.** Both `append()` and `extend()` methods will add their contents in the same way by creating a nested list inside the original list.\n",
    "\n",
    "**D.** The `append()` method replaces the existing list, and `extend()` clears the list before adding the new sequence.\n"
   ]
  },
  {
   "cell_type": "code",
   "execution_count": 7,
   "id": "0369c1db-5ea8-4012-bef7-079e3909f76d",
   "metadata": {},
   "outputs": [
    {
     "name": "stdout",
     "output_type": "stream",
     "text": [
      "['a', 'b', 'c', 'd', ['e', 'f'], '$']\n",
      "['a', 'b', 'c', 'd', ['e', 'f'], '$', 'g', 'h']\n"
     ]
    }
   ],
   "source": [
    "# Ans\n",
    "\n",
    "list1 = ['a','b','c','d']\n",
    "list1.append(['e','f']) # it will add this list as a list \n",
    "list1.append('$')\n",
    "print(list1)\n",
    "list1.extend(['g','h']) # it will iterate over the list add all the elements on original list\n",
    "print(list1)\n",
    "\n",
    "# So answer is Option B"
   ]
  },
  {
   "cell_type": "markdown",
   "id": "85225960-8500-41e8-8abf-fecba6eabdfa",
   "metadata": {},
   "source": [
    "### Question 2\n",
    "\n",
    "In Python programming, the 'for' loop is highly flexible for iterating over various iterable objects. Consider a scenario where you have a dictionary with string keys and integer values. Which of the following correctly iterates over both the keys and values of this dictionary?\n",
    "\n",
    "** **A.** `for key, value in dictionary.items(): print(key, value)`**\n",
    "\n",
    "**B.** `for key in dictionary: print(key, dictionary[key])`\n",
    "\n",
    "**C.** `for value in dictionary.values(): print(value)`\n",
    "\n",
    "**D.** `for key in dictionary.keys(): print(key)`\n"
   ]
  },
  {
   "cell_type": "code",
   "execution_count": 21,
   "id": "ca6de075-42bb-4bbf-94bb-ba0b3c75b337",
   "metadata": {},
   "outputs": [
    {
     "name": "stdout",
     "output_type": "stream",
     "text": [
      "1 a\n",
      "2 b\n",
      "3 c\n",
      "1 a\n",
      "2 b\n",
      "3 c\n",
      "a\n",
      "b\n",
      "c\n",
      "1\n",
      "2\n",
      "3\n"
     ]
    }
   ],
   "source": [
    "my_dict = {1:'a', 2:'b', 3:'c'}\n",
    "for key,value in my_dict.items(): #option A which directly take keys,values\n",
    "    print(key,value)\n",
    "for key in my_dict: #option B which do lookup again for every key value\n",
    "    print(key,my_dict[key])\n",
    "for value in my_dict.values(): # this will print values\n",
    "    print(value)\n",
    "for key in my_dict.keys(): # this will print keys\n",
    "    print(key)\n",
    "\n",
    "# option A \n",
    "# The items() method returns a view object that displays a list of\n",
    "# the dictionary's key-value tuple pairs. This allows for simultaneous iteration\n",
    "# over both keys and values in the 'for' loop, which is not possible with\n",
    "# methods like keys() or values() alone.\n",
    "# option B\n",
    "# This method iterates over the keys and then accesses the value using dictionary[key]. \n",
    "# While it works, it involves an additional lookup for each key, \n",
    "# which can be less efficient, especially for large dictionaries."
   ]
  },
  {
   "cell_type": "markdown",
   "id": "0aca37b8-6a11-45e5-b80f-8ad13dc782e8",
   "metadata": {},
   "source": [
    "### Question 3\n",
    "\n",
    "In Python, variable scopes are crucial for understanding how variables are accessed or modified within nested blocks of code. If a variable with the same name is defined both inside a function and outside of it, what will happen when the function tries to modify this variable without any additional keyword?\n",
    "\n",
    "**A.** The function will modify the global variable directly without any error.\n",
    "\n",
    "**B.** Python will raise a SyntaxError due to conflicting variable scopes.\n",
    "\n",
    "** **C.** The function will create a new local variable with the same name as the global variable, leaving the global variable unaffected. **\n",
    "\n",
    "**D.** The global variable will be shadowed, and its value will change only when the function terminates.\n"
   ]
  },
  {
   "cell_type": "code",
   "execution_count": 30,
   "id": "1cc8029c-999e-4ebc-b5f9-9e8937d896aa",
   "metadata": {},
   "outputs": [
    {
     "data": {
      "text/plain": [
       "{0: 6, 1: 7, 2: 8, 3: 9, 4: 10}"
      ]
     },
     "execution_count": 30,
     "metadata": {},
     "output_type": "execute_result"
    }
   ],
   "source": [
    "class Solution:\n",
    "    arr = [1,2,3,4,5] #global arr\n",
    "    def make_dict(values):\n",
    "        d = {}\n",
    "        global arr #referring global arr\n",
    "        arr = [6,7,8,9,10] # local arr\n",
    "        for i in range(len(values)):\n",
    "            d[i] = arr[i] # local arr will be referred\n",
    "           # d[i] = Solution.arr[i] # global arr will be referred\n",
    "        return d\n",
    "    \n",
    "values = ['a','b','c','d','e']       \n",
    "Solution.make_dict(values)\n",
    "# Option C is correct\n",
    "# In Python, variables declared inside a function are treated as\n",
    "#  local to that function by default. If a variable of the same name exists\n",
    "#  globally, any modification inside the function will not affect the global\n",
    "#  variable unless the 'global' keyword is explicitly used\n"
   ]
  },
  {
   "cell_type": "code",
   "execution_count": null,
   "id": "4ec194d8-59d2-4f4e-bbfe-826563e20e68",
   "metadata": {},
   "outputs": [],
   "source": []
  }
 ],
 "metadata": {
  "kernelspec": {
   "display_name": "Python 3 (ipykernel)",
   "language": "python",
   "name": "python3"
  },
  "language_info": {
   "codemirror_mode": {
    "name": "ipython",
    "version": 3
   },
   "file_extension": ".py",
   "mimetype": "text/x-python",
   "name": "python",
   "nbconvert_exporter": "python",
   "pygments_lexer": "ipython3",
   "version": "3.10.0"
  }
 },
 "nbformat": 4,
 "nbformat_minor": 5
}
